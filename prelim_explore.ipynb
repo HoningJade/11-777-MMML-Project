{
 "cells": [
  {
   "cell_type": "code",
   "execution_count": 1,
   "id": "5777b151-10da-4a1d-aff6-ccba40bcb993",
   "metadata": {},
   "outputs": [
    {
     "name": "stderr",
     "output_type": "stream",
     "text": [
      "Warning: Gym version v0.24.0 has a number of critical issues with `gym.make` such that the `reset` and `step` functions are called before returning the environment. It is recommend to downgrading to v0.23.1 or upgrading to v0.25.1\n",
      "/home/haoyang/anaconda3/envs/webshop/lib/python3.8/site-packages/requests/__init__.py:43: DeprecationWarning: 'urllib3[secure]' extra is deprecated and will be removed in urllib3 v2.1.0. Read more in this issue: https://github.com/urllib3/urllib3/issues/2680\n",
      "  import urllib3\n",
      "/home/haoyang/anaconda3/envs/webshop/lib/python3.8/site-packages/jnius_config.py:72: DeprecationWarning: pkg_resources is deprecated as an API. See https://setuptools.pypa.io/en/latest/pkg_resources.html\n",
      "  from pkg_resources import resource_filename\n",
      "/home/haoyang/anaconda3/envs/webshop/lib/python3.8/site-packages/pkg_resources/__init__.py:2871: DeprecationWarning: Deprecated call to `pkg_resources.declare_namespace('mpl_toolkits')`.\n",
      "Implementing implicit namespace packages (as specified in PEP 420) is preferred to `pkg_resources.declare_namespace`. See https://setuptools.pypa.io/en/latest/references/keywords.html#keyword-namespace-packages\n",
      "  declare_namespace(pkg)\n",
      "/home/haoyang/anaconda3/envs/webshop/lib/python3.8/site-packages/faiss/loader.py:28: DeprecationWarning: distutils Version classes are deprecated. Use packaging.version instead.\n",
      "  if LooseVersion(numpy.__version__) >= \"1.19\":\n",
      "/home/haoyang/anaconda3/envs/webshop/lib/python3.8/site-packages/setuptools/_distutils/version.py:345: DeprecationWarning: distutils Version classes are deprecated. Use packaging.version instead.\n",
      "  other = LooseVersion(other)\n"
     ]
    },
    {
     "data": {
      "text/html": [
       "<pre style=\"white-space:pre;overflow-x:auto;line-height:normal;font-family:Menlo,'DejaVu Sans Mono',consolas,'Courier New',monospace\">Products loaded.\n",
       "</pre>\n"
      ],
      "text/plain": [
       "Products loaded.\n"
      ]
     },
     "metadata": {},
     "output_type": "display_data"
    },
    {
     "data": {
      "text/html": [
       "<pre style=\"white-space:pre;overflow-x:auto;line-height:normal;font-family:Menlo,'DejaVu Sans Mono',consolas,'Courier New',monospace\">Keys cleaned.\n",
       "</pre>\n"
      ],
      "text/plain": [
       "Keys cleaned.\n"
      ]
     },
     "metadata": {},
     "output_type": "display_data"
    },
    {
     "data": {
      "text/html": [
       "<pre style=\"white-space:pre;overflow-x:auto;line-height:normal;font-family:Menlo,'DejaVu Sans Mono',consolas,'Courier New',monospace\">Attributes loaded.\n",
       "</pre>\n"
      ],
      "text/plain": [
       "Attributes loaded.\n"
      ]
     },
     "metadata": {},
     "output_type": "display_data"
    },
    {
     "data": {
      "text/html": [
       "<pre style=\"white-space:pre;overflow-x:auto;line-height:normal;font-family:Menlo,'DejaVu Sans Mono',consolas,'Courier New',monospace\">HUMAN ATTRIBUTES <span style=\"color: #808000; text-decoration-color: #808000\">PATH</span>=<span style=\"color: #800080; text-decoration-color: #800080\">/home/haoyang/webshop/web_agent_site/../data/</span><span style=\"color: #ff00ff; text-decoration-color: #ff00ff\">items_human_ins.json</span>\n",
       "</pre>\n"
      ],
      "text/plain": [
       "HUMAN ATTRIBUTES \u001b[33mPATH\u001b[0m=\u001b[35m/home/haoyang/webshop/web_agent_site/../data/\u001b[0m\u001b[95mitems_human_ins.json\u001b[0m\n"
      ]
     },
     "metadata": {},
     "output_type": "display_data"
    },
    {
     "name": "stderr",
     "output_type": "stream",
     "text": [
      "100%|██████████| 1000/1000 [00:00<00:00, 210610.29it/s]\n"
     ]
    },
    {
     "name": "stdout",
     "output_type": "stream",
     "text": [
      "FILE_PATH\n",
      "/home/haoyang/webshop/web_agent_site/../data/items_shuffle.json\n",
      "Loaded 6910 goals.\n",
      "len(goals)=6910\n",
      "len(goals)=6910\n"
     ]
    },
    {
     "name": "stderr",
     "output_type": "stream",
     "text": [
      "/home/haoyang/anaconda3/envs/webshop/lib/python3.8/site-packages/flask/testing.py:71: DeprecationWarning: 'werkzeug.urls.url_parse' is deprecated and will be removed in Werkzeug 3.0. Use 'urllib.parse.urlsplit' instead.\n",
      "  url = url_parse(path)\n",
      "/home/haoyang/anaconda3/envs/webshop/lib/python3.8/site-packages/werkzeug/urls.py:545: DeprecationWarning: 'werkzeug.urls.URL' is deprecated and will be removed in Werkzeug 3.0. Use the 'urllib.parse' library instead.\n",
      "  return result_type(scheme, netloc, url, query, fragment)\n",
      "/home/haoyang/webshop/web_agent_site/envs/web_agent_text_env.py:216: DeprecationWarning: The 'text' argument to find()-type methods is deprecated. Use 'string' instead.\n",
      "  texts = self._parse_html(html).findAll(text=True)\n"
     ]
    }
   ],
   "source": [
    "import warnings\n",
    "warnings.filterwarnings(\"ignore\")\n",
    "\n",
    "import gym\n",
    "from web_agent_site.envs import WebAgentTextEnv\n",
    "\n",
    "env = gym.make('WebAgentTextEnv-v0', observation_mode='text', num_products=1000, get_image=True)\n",
    "obs = env.reset()"
   ]
  },
  {
   "cell_type": "code",
   "execution_count": 2,
   "id": "ac60dcd0-bc09-4a2b-b6e7-fe39217c71ba",
   "metadata": {},
   "outputs": [
    {
     "name": "stderr",
     "output_type": "stream",
     "text": [
      "/home/haoyang/anaconda3/envs/webshop/lib/python3.8/site-packages/ipykernel/ipkernel.py:283: DeprecationWarning: `should_run_async` will not call `transform_cell` automatically in the future. Please pass the result to `transformed_cell` argument and any exception that happen during thetransform in `preprocessing_exc_tuple` in IPython 7.17 and above.\n",
      "  and should_run_async(code)\n"
     ]
    }
   ],
   "source": [
    "actions = env.get_available_actions()"
   ]
  },
  {
   "cell_type": "code",
   "execution_count": 3,
   "id": "0d68ba4f-0a94-4fc5-b846-9cda33de804a",
   "metadata": {},
   "outputs": [
    {
     "data": {
      "text/plain": [
       "{'has_search_bar': True, 'clickables': ['search']}"
      ]
     },
     "execution_count": 3,
     "metadata": {},
     "output_type": "execute_result"
    }
   ],
   "source": [
    "actions"
   ]
  },
  {
   "cell_type": "code",
   "execution_count": 4,
   "id": "3c8cd8cd-dc0e-4777-8be8-0e108c972458",
   "metadata": {},
   "outputs": [
    {
     "name": "stdout",
     "output_type": "stream",
     "text": [
      "torch.Size([512])\n"
     ]
    }
   ],
   "source": [
    "image = env.get_image()\n",
    "print(image.shape)"
   ]
  },
  {
   "cell_type": "code",
   "execution_count": 5,
   "id": "7a19a9eb-0623-4241-ae8e-08e0a6065d5f",
   "metadata": {},
   "outputs": [
    {
     "data": {
      "text/plain": [
       "(\"WebShop [SEP] Instruction: [SEP] Find me slim fit, machine wash women's jumpsuits, rompers & overalls with short sleeve, high waist, polyester spandex for daily wear with color: green stripe, and size: large, and price lower than 50.00 dollars [SEP] Search\",\n",
       " None)"
      ]
     },
     "execution_count": 5,
     "metadata": {},
     "output_type": "execute_result"
    }
   ],
   "source": [
    "obs"
   ]
  },
  {
   "cell_type": "code",
   "execution_count": 6,
   "id": "f3dd0faf-2a6a-45a1-97db-ee26899ac96c",
   "metadata": {},
   "outputs": [],
   "source": [
    "action = \"search[warm jacket coat women faux fur lined]\""
   ]
  },
  {
   "cell_type": "code",
   "execution_count": 7,
   "id": "dd04789a-e0d2-4342-ba6a-a2677dbffec0",
   "metadata": {},
   "outputs": [],
   "source": [
    "state, reward, done, info = env.step(action)"
   ]
  },
  {
   "cell_type": "code",
   "execution_count": 8,
   "id": "b755a036-efbc-4164-80af-76db1d2ce745",
   "metadata": {},
   "outputs": [
    {
     "data": {
      "text/plain": [
       "\"Instruction: [SEP] Find me slim fit, machine wash women's jumpsuits, rompers & overalls with short sleeve, high waist, polyester spandex for daily wear with color: green stripe, and size: large, and price lower than 50.00 dollars [SEP] Back to Search [SEP] Page 1 (Total results: 50) [SEP] Next > [SEP] B09KP78G37 [SEP] Women Faux Fur Lined Jacket Coat Winter Warm Thick Fleece Outwear Trench Zipper Plus Size Long Sleeve Plush Overcoat [SEP] $47.41 to $59.07 [SEP] B07ZXBGDXF [SEP] Women's Coat, FORUU Winter Faux Fur Fleece Outwear Warm Lapel Biker Motor Aviator Jacket [SEP] $21.49 to $24.99 [SEP] B09C8YNWWB [SEP] Clarks Womens Suede Leather Slipper with Gore and Bungee JMH2213 - Warm Plush Faux Fur Lining - Indoor Outdoor House Slippers For Women [SEP] $44.95 [SEP] B0957XW92M [SEP] Giantex Faux Fur Vanity Stool Chair, Round Footstool Ottoman with Metal Legs for Living Room, Fluffy Chair with Furry Padded Seat, Makeup Stool for Bedroom, Decorative Furniture Footrest White [SEP] $52.99 [SEP] B09MSZ4VS8 [SEP] Goldweather Women Winter Leggings Printed Warm Fleece Lined Yoga Pants Trousers Thermal High Waist Thicken Cashmere Tights (Navy, L) [SEP] $20.99 [SEP] B07DKGJR74 [SEP] Amazon Brand - Daily Ritual Women's 100% Cotton Oversized Fit V-Neck Pullover Sweater [SEP] $20.66 to $29.2 [SEP] B000J3HZXS [SEP] Laguna Floating Planting Bag, Aquatic Pond Planter [SEP] $19.99 [SEP] B01N9I1E62 [SEP] Woolrich Women's Autumn Ridge Ii Slipper [SEP] $24.99 [SEP] B09S3BN15C [SEP] Mens Linen Shirt,Men's Striped Shirts Casual Short Sleeve Button Down Shirts Regular Fit Hawaiian Shirts Beach Tees Tops [SEP] $3.78 to $11.38 [SEP] B09KWX51GJ [SEP] Monbix 3 Piece Queen Bed Set All Season Luxury Breathable Microfiber Bedding Collection Cozy Comforter Set Soft Washable Foil Marble Pattern Grey with Shams [SEP] $49.99\""
      ]
     },
     "execution_count": 8,
     "metadata": {},
     "output_type": "execute_result"
    }
   ],
   "source": [
    "state"
   ]
  },
  {
   "cell_type": "code",
   "execution_count": 9,
   "id": "d97659bc-f84c-422f-acf2-d5aa1980a3f5",
   "metadata": {},
   "outputs": [],
   "source": [
    "image = env.get_image()"
   ]
  },
  {
   "cell_type": "code",
   "execution_count": 10,
   "id": "6acf8d0e-1c9d-4666-9174-3a96d6204fa8",
   "metadata": {},
   "outputs": [
    {
     "data": {
      "text/plain": [
       "'<!DOCTYPE html>\\n<html>\\n  <head>\\n    <link rel=\"stylesheet\" href=\"/static/style.css\">\\n    <link rel=\"stylesheet\" href=\"https://maxcdn.bootstrapcdn.com/bootstrap/3.4.1/css/bootstrap.min.css\">\\n    <link rel=\"stylesheet\" href=\"https://cdnjs.cloudflare.com/ajax/libs/font-awesome/4.0.3/css/font-awesome.css\\t\">\\n    <script src=\"https://ajax.googleapis.com/ajax/libs/jquery/3.5.1/jquery.min.js\"></script>\\n    <script src=\"https://stackpath.bootstrapcdn.com/bootstrap/4.3.1/js/bootstrap.bundle.min.js\"></script>\\n    <link rel=\"icon\" href=\"data:,\">\\n  </head>\\n  <body>\\n    <div class=\"container py-5\">\\n      <div class=\"row top-buffer\">\\n        <div class=\"col-sm-6\">\\n          <div id=\"instruction-text\" class=\"text-center\">\\n            <h4>Instruction:<br>Find me slim fit, machine wash women&#39;s jumpsuits, rompers &amp; overalls with short sleeve, high waist, polyester spandex for daily wear with color: green stripe, and size: large, and price lower than 50.00 dollars</h4>\\n          </div>\\n        </div>\\n      </div>\\n      <div class=\"row top-buffer\">\\n        <form method=\"post\" action=\"/?session_id=ayfoedaown\">\\n          <button type=\"submit\" class=\"btn btn-success\">Back to Search</button>\\n        </form>\\n      </div>\\n      <div class=\"row top-buffer\">\\n        <div class=\"col-sm-8\">\\n          <div class=\"display-4\">\\n            <h3>Page 1 (Total results: 50)</h3>\\n          </div>\\n          \\n            <div class=\"col-sm-2\">\\n            </div>\\n            <div class=\"col-sm-2\">\\n              <form method=\"post\" action=\"/?session_id=ayfoedaown&amp;keywords=warm&amp;keywords=jacket&amp;keywords=coat&amp;keywords=women&amp;keywords=faux&amp;keywords=fur&amp;keywords=lined&amp;page=2\">\\n                <button type=\"submit\" class=\"btn btn-primary\">Next &gt;</button>\\n              </form>\\n            </div>\\n          \\n        </div>\\n      </div>\\n\\n      <div class=\"row top-buffer\">\\n        \\n        <div class=\"col-lg-12 mx-auto list-group-item\">\\n          <div class=\"col-lg-4\">\\n            <img src=\"https://m.media-amazon.com/images/I/31Nkx3FT1hL.jpg\" class=\"result-img\">\\n          </div>\\n          <div class=\"col-lg-8\">\\n            <ul class=\"list-group shadow\">\\n                <div class=\"media align-items-lg-center flex-column flex-lg-row p-3\">\\n                  <div class=\"media-body order-2 order-lg-1 searched-product\">\\n                    \\n                    <h4 class=\"mt-0 font-weight-bold mb-2 product-asin\"><a class=\"product-link\" href=\"/?session_id=ayfoedaown&amp;asin=B09KP78G37&amp;keywords=warm&amp;keywords=jacket&amp;keywords=coat&amp;keywords=women&amp;keywords=faux&amp;keywords=fur&amp;keywords=lined&amp;page=1&amp;options=%7B%7D\">B09KP78G37</a></h5>\\n                    <h4 class=\"mt-0 font-weight-bold mb-2 product-title\">Women Faux Fur Lined Jacket Coat Winter Warm Thick Fleece Outwear Trench Zipper Plus Size Long Sleeve Plush Overcoat</h5>\\n                    <div class=\"d-flex align-items-center justify-content-between mt-1\">\\n                      <h5 class=\"font-weight-bold my-2 product-price\">$47.41 to $59.07</h6>\\n                    </div>\\n<!--\\n                    <div class=\"d-flex align-items-center justify-content-between mt-1\">\\n                      <h5 class=\"font-weight-bold my-2 product-category\">fashion</h5>\\n                    </div>\\n                    <div class=\"d-flex align-items-center justify-content-between mt-1\">\\n                      <h5 class=\"font-weight-bold my-2 product-query\">women&#39;s coats, jackets &amp; vests</h5>\\n                    </div>\\n                    <div class=\"d-flex align-items-center justify-content-between mt-1\">\\n                      <h5 class=\"font-weight-bold my-2 product-product_category\">Clothing, Shoes &amp; Jewelry › Women › Clothing › Coats, Jackets &amp; Vests › Fur &amp; Faux Fur</h5>\\n                    </div>\\n-->\\n                  </div>\\n                </div>\\n            </ul>\\n          </div>\\n        </div>\\n        \\n        <div class=\"col-lg-12 mx-auto list-group-item\">\\n          <div class=\"col-lg-4\">\\n            <img src=\"https://m.media-amazon.com/images/I/51modP3dIdL.jpg\" class=\"result-img\">\\n          </div>\\n          <div class=\"col-lg-8\">\\n            <ul class=\"list-group shadow\">\\n                <div class=\"media align-items-lg-center flex-column flex-lg-row p-3\">\\n                  <div class=\"media-body order-2 order-lg-1 searched-product\">\\n                    \\n                    <h4 class=\"mt-0 font-weight-bold mb-2 product-asin\"><a class=\"product-link\" href=\"/?session_id=ayfoedaown&amp;asin=B07ZXBGDXF&amp;keywords=warm&amp;keywords=jacket&amp;keywords=coat&amp;keywords=women&amp;keywords=faux&amp;keywords=fur&amp;keywords=lined&amp;page=1&amp;options=%7B%7D\">B07ZXBGDXF</a></h5>\\n                    <h4 class=\"mt-0 font-weight-bold mb-2 product-title\">Women&#39;s Coat, FORUU Winter Faux Fur Fleece Outwear Warm Lapel Biker Motor Aviator Jacket</h5>\\n                    <div class=\"d-flex align-items-center justify-content-between mt-1\">\\n                      <h5 class=\"font-weight-bold my-2 product-price\">$21.49 to $24.99</h6>\\n                    </div>\\n<!--\\n                    <div class=\"d-flex align-items-center justify-content-between mt-1\">\\n                      <h5 class=\"font-weight-bold my-2 product-category\">fashion</h5>\\n                    </div>\\n                    <div class=\"d-flex align-items-center justify-content-between mt-1\">\\n                      <h5 class=\"font-weight-bold my-2 product-query\">women&#39;s shorts</h5>\\n                    </div>\\n                    <div class=\"d-flex align-items-center justify-content-between mt-1\">\\n                      <h5 class=\"font-weight-bold my-2 product-product_category\">Clothing, Shoes &amp; Jewelry › Women › Clothing › Coats, Jackets &amp; Vests › Fur &amp; Faux Fur</h5>\\n                    </div>\\n-->\\n                  </div>\\n                </div>\\n            </ul>\\n          </div>\\n        </div>\\n        \\n        <div class=\"col-lg-12 mx-auto list-group-item\">\\n          <div class=\"col-lg-4\">\\n            <img src=\"https://m.media-amazon.com/images/I/3132OhXlziL.jpg\" class=\"result-img\">\\n          </div>\\n          <div class=\"col-lg-8\">\\n            <ul class=\"list-group shadow\">\\n                <div class=\"media align-items-lg-center flex-column flex-lg-row p-3\">\\n                  <div class=\"media-body order-2 order-lg-1 searched-product\">\\n                    \\n                    <h4 class=\"mt-0 font-weight-bold mb-2 product-asin\"><a class=\"product-link\" href=\"/?session_id=ayfoedaown&amp;asin=B09C8YNWWB&amp;keywords=warm&amp;keywords=jacket&amp;keywords=coat&amp;keywords=women&amp;keywords=faux&amp;keywords=fur&amp;keywords=lined&amp;page=1&amp;options=%7B%7D\">B09C8YNWWB</a></h5>\\n                    <h4 class=\"mt-0 font-weight-bold mb-2 product-title\">Clarks Womens Suede Leather Slipper with Gore and Bungee JMH2213 - Warm Plush Faux Fur Lining - Indoor Outdoor House Slippers For Women</h5>\\n                    <div class=\"d-flex align-items-center justify-content-between mt-1\">\\n                      <h5 class=\"font-weight-bold my-2 product-price\">$44.95</h6>\\n                    </div>\\n<!--\\n                    <div class=\"d-flex align-items-center justify-content-between mt-1\">\\n                      <h5 class=\"font-weight-bold my-2 product-category\">fashion</h5>\\n                    </div>\\n                    <div class=\"d-flex align-items-center justify-content-between mt-1\">\\n                      <h5 class=\"font-weight-bold my-2 product-query\">women&#39;s outdoor shoes</h5>\\n                    </div>\\n                    <div class=\"d-flex align-items-center justify-content-between mt-1\">\\n                      <h5 class=\"font-weight-bold my-2 product-product_category\">Clothing, Shoes &amp; Jewelry › Women › Shoes</h5>\\n                    </div>\\n-->\\n                  </div>\\n                </div>\\n            </ul>\\n          </div>\\n        </div>\\n        \\n        <div class=\"col-lg-12 mx-auto list-group-item\">\\n          <div class=\"col-lg-4\">\\n            <img src=\"https://m.media-amazon.com/images/I/41JKaj6mh8S.jpg\" class=\"result-img\">\\n          </div>\\n          <div class=\"col-lg-8\">\\n            <ul class=\"list-group shadow\">\\n                <div class=\"media align-items-lg-center flex-column flex-lg-row p-3\">\\n                  <div class=\"media-body order-2 order-lg-1 searched-product\">\\n                    \\n                    <h4 class=\"mt-0 font-weight-bold mb-2 product-asin\"><a class=\"product-link\" href=\"/?session_id=ayfoedaown&amp;asin=B0957XW92M&amp;keywords=warm&amp;keywords=jacket&amp;keywords=coat&amp;keywords=women&amp;keywords=faux&amp;keywords=fur&amp;keywords=lined&amp;page=1&amp;options=%7B%7D\">B0957XW92M</a></h5>\\n                    <h4 class=\"mt-0 font-weight-bold mb-2 product-title\">Giantex Faux Fur Vanity Stool Chair, Round Footstool Ottoman with Metal Legs for Living Room, Fluffy Chair with Furry Padded Seat, Makeup Stool for Bedroom, Decorative Furniture Footrest White</h5>\\n                    <div class=\"d-flex align-items-center justify-content-between mt-1\">\\n                      <h5 class=\"font-weight-bold my-2 product-price\">$52.99</h6>\\n                    </div>\\n<!--\\n                    <div class=\"d-flex align-items-center justify-content-between mt-1\">\\n                      <h5 class=\"font-weight-bold my-2 product-category\">garden</h5>\\n                    </div>\\n                    <div class=\"d-flex align-items-center justify-content-between mt-1\">\\n                      <h5 class=\"font-weight-bold my-2 product-query\">vanities</h5>\\n                    </div>\\n                    <div class=\"d-flex align-items-center justify-content-between mt-1\">\\n                      <h5 class=\"font-weight-bold my-2 product-product_category\">Home &amp; Kitchen › Furniture › Accent Furniture › Ottomans</h5>\\n                    </div>\\n-->\\n                  </div>\\n                </div>\\n            </ul>\\n          </div>\\n        </div>\\n        \\n        <div class=\"col-lg-12 mx-auto list-group-item\">\\n          <div class=\"col-lg-4\">\\n            <img src=\"https://m.media-amazon.com/images/I/417qAowkc5L.jpg\" class=\"result-img\">\\n          </div>\\n          <div class=\"col-lg-8\">\\n            <ul class=\"list-group shadow\">\\n                <div class=\"media align-items-lg-center flex-column flex-lg-row p-3\">\\n                  <div class=\"media-body order-2 order-lg-1 searched-product\">\\n                    \\n                    <h4 class=\"mt-0 font-weight-bold mb-2 product-asin\"><a class=\"product-link\" href=\"/?session_id=ayfoedaown&amp;asin=B09MSZ4VS8&amp;keywords=warm&amp;keywords=jacket&amp;keywords=coat&amp;keywords=women&amp;keywords=faux&amp;keywords=fur&amp;keywords=lined&amp;page=1&amp;options=%7B%7D\">B09MSZ4VS8</a></h5>\\n                    <h4 class=\"mt-0 font-weight-bold mb-2 product-title\">Goldweather Women Winter Leggings Printed Warm Fleece Lined Yoga Pants Trousers Thermal High Waist Thicken Cashmere Tights (Navy, L)</h5>\\n                    <div class=\"d-flex align-items-center justify-content-between mt-1\">\\n                      <h5 class=\"font-weight-bold my-2 product-price\">$20.99</h6>\\n                    </div>\\n<!--\\n                    <div class=\"d-flex align-items-center justify-content-between mt-1\">\\n                      <h5 class=\"font-weight-bold my-2 product-category\">beauty</h5>\\n                    </div>\\n                    <div class=\"d-flex align-items-center justify-content-between mt-1\">\\n                      <h5 class=\"font-weight-bold my-2 product-query\">bathing accessories</h5>\\n                    </div>\\n                    <div class=\"d-flex align-items-center justify-content-between mt-1\">\\n                      <h5 class=\"font-weight-bold my-2 product-product_category\">Beauty &amp; Personal Care › Personal Care › Bath &amp; Bathing Accessories › Bathing Accessories › Bath Pillows</h5>\\n                    </div>\\n-->\\n                  </div>\\n                </div>\\n            </ul>\\n          </div>\\n        </div>\\n        \\n        <div class=\"col-lg-12 mx-auto list-group-item\">\\n          <div class=\"col-lg-4\">\\n            <img src=\"https://m.media-amazon.com/images/I/41D54yBGD-L.jpg\" class=\"result-img\">\\n          </div>\\n          <div class=\"col-lg-8\">\\n            <ul class=\"list-group shadow\">\\n                <div class=\"media align-items-lg-center flex-column flex-lg-row p-3\">\\n                  <div class=\"media-body order-2 order-lg-1 searched-product\">\\n                    \\n                    <h4 class=\"mt-0 font-weight-bold mb-2 product-asin\"><a class=\"product-link\" href=\"/?session_id=ayfoedaown&amp;asin=B07DKGJR74&amp;keywords=warm&amp;keywords=jacket&amp;keywords=coat&amp;keywords=women&amp;keywords=faux&amp;keywords=fur&amp;keywords=lined&amp;page=1&amp;options=%7B%7D\">B07DKGJR74</a></h5>\\n                    <h4 class=\"mt-0 font-weight-bold mb-2 product-title\">Amazon Brand - Daily Ritual Women&#39;s 100% Cotton Oversized Fit V-Neck Pullover Sweater</h5>\\n                    <div class=\"d-flex align-items-center justify-content-between mt-1\">\\n                      <h5 class=\"font-weight-bold my-2 product-price\">$20.66 to $29.2</h6>\\n                    </div>\\n<!--\\n                    <div class=\"d-flex align-items-center justify-content-between mt-1\">\\n                      <h5 class=\"font-weight-bold my-2 product-category\">fashion</h5>\\n                    </div>\\n                    <div class=\"d-flex align-items-center justify-content-between mt-1\">\\n                      <h5 class=\"font-weight-bold my-2 product-query\">women&#39;s sweaters</h5>\\n                    </div>\\n                    <div class=\"d-flex align-items-center justify-content-between mt-1\">\\n                      <h5 class=\"font-weight-bold my-2 product-product_category\">Clothing, Shoes &amp; Jewelry › Women › Clothing › Sweaters › Pullovers</h5>\\n                    </div>\\n-->\\n                  </div>\\n                </div>\\n            </ul>\\n          </div>\\n        </div>\\n        \\n        <div class=\"col-lg-12 mx-auto list-group-item\">\\n          <div class=\"col-lg-4\">\\n            <img src=\"https://m.media-amazon.com/images/I/51GSWJ2p2lL.jpg\" class=\"result-img\">\\n          </div>\\n          <div class=\"col-lg-8\">\\n            <ul class=\"list-group shadow\">\\n                <div class=\"media align-items-lg-center flex-column flex-lg-row p-3\">\\n                  <div class=\"media-body order-2 order-lg-1 searched-product\">\\n                    \\n                    <h4 class=\"mt-0 font-weight-bold mb-2 product-asin\"><a class=\"product-link\" href=\"/?session_id=ayfoedaown&amp;asin=B000J3HZXS&amp;keywords=warm&amp;keywords=jacket&amp;keywords=coat&amp;keywords=women&amp;keywords=faux&amp;keywords=fur&amp;keywords=lined&amp;page=1&amp;options=%7B%7D\">B000J3HZXS</a></h5>\\n                    <h4 class=\"mt-0 font-weight-bold mb-2 product-title\">Laguna Floating Planting Bag, Aquatic Pond Planter</h5>\\n                    <div class=\"d-flex align-items-center justify-content-between mt-1\">\\n                      <h5 class=\"font-weight-bold my-2 product-price\">$19.99</h6>\\n                    </div>\\n<!--\\n                    <div class=\"d-flex align-items-center justify-content-between mt-1\">\\n                      <h5 class=\"font-weight-bold my-2 product-category\">garden</h5>\\n                    </div>\\n                    <div class=\"d-flex align-items-center justify-content-between mt-1\">\\n                      <h5 class=\"font-weight-bold my-2 product-query\">live plants</h5>\\n                    </div>\\n                    <div class=\"d-flex align-items-center justify-content-between mt-1\">\\n                      <h5 class=\"font-weight-bold my-2 product-product_category\">Patio, Lawn &amp; Garden › Gardening &amp; Lawn Care › Pots, Planters &amp; Container Accessories › Hanging Planters</h5>\\n                    </div>\\n-->\\n                  </div>\\n                </div>\\n            </ul>\\n          </div>\\n        </div>\\n        \\n        <div class=\"col-lg-12 mx-auto list-group-item\">\\n          <div class=\"col-lg-4\">\\n            <img src=\"https://m.media-amazon.com/images/I/41DsD53YecL.jpg\" class=\"result-img\">\\n          </div>\\n          <div class=\"col-lg-8\">\\n            <ul class=\"list-group shadow\">\\n                <div class=\"media align-items-lg-center flex-column flex-lg-row p-3\">\\n                  <div class=\"media-body order-2 order-lg-1 searched-product\">\\n                    \\n                    <h4 class=\"mt-0 font-weight-bold mb-2 product-asin\"><a class=\"product-link\" href=\"/?session_id=ayfoedaown&amp;asin=B01N9I1E62&amp;keywords=warm&amp;keywords=jacket&amp;keywords=coat&amp;keywords=women&amp;keywords=faux&amp;keywords=fur&amp;keywords=lined&amp;page=1&amp;options=%7B%7D\">B01N9I1E62</a></h5>\\n                    <h4 class=\"mt-0 font-weight-bold mb-2 product-title\">Woolrich Women&#39;s Autumn Ridge Ii Slipper</h5>\\n                    <div class=\"d-flex align-items-center justify-content-between mt-1\">\\n                      <h5 class=\"font-weight-bold my-2 product-price\">$24.99</h6>\\n                    </div>\\n<!--\\n                    <div class=\"d-flex align-items-center justify-content-between mt-1\">\\n                      <h5 class=\"font-weight-bold my-2 product-category\">fashion</h5>\\n                    </div>\\n                    <div class=\"d-flex align-items-center justify-content-between mt-1\">\\n                      <h5 class=\"font-weight-bold my-2 product-query\">women&#39;s slippers</h5>\\n                    </div>\\n                    <div class=\"d-flex align-items-center justify-content-between mt-1\">\\n                      <h5 class=\"font-weight-bold my-2 product-product_category\">Clothing, Shoes &amp; Jewelry › Women › Shoes › Slippers</h5>\\n                    </div>\\n-->\\n                  </div>\\n                </div>\\n            </ul>\\n          </div>\\n        </div>\\n        \\n        <div class=\"col-lg-12 mx-auto list-group-item\">\\n          <div class=\"col-lg-4\">\\n            <img src=\"https://m.media-amazon.com/images/I/412AX6VrkyL.jpg\" class=\"result-img\">\\n          </div>\\n          <div class=\"col-lg-8\">\\n            <ul class=\"list-group shadow\">\\n                <div class=\"media align-items-lg-center flex-column flex-lg-row p-3\">\\n                  <div class=\"media-body order-2 order-lg-1 searched-product\">\\n                    \\n                    <h4 class=\"mt-0 font-weight-bold mb-2 product-asin\"><a class=\"product-link\" href=\"/?session_id=ayfoedaown&amp;asin=B09S3BN15C&amp;keywords=warm&amp;keywords=jacket&amp;keywords=coat&amp;keywords=women&amp;keywords=faux&amp;keywords=fur&amp;keywords=lined&amp;page=1&amp;options=%7B%7D\">B09S3BN15C</a></h5>\\n                    <h4 class=\"mt-0 font-weight-bold mb-2 product-title\">Mens Linen Shirt,Men&#39;s Striped Shirts Casual Short Sleeve Button Down Shirts Regular Fit Hawaiian Shirts Beach Tees Tops</h5>\\n                    <div class=\"d-flex align-items-center justify-content-between mt-1\">\\n                      <h5 class=\"font-weight-bold my-2 product-price\">$3.78 to $11.38</h6>\\n                    </div>\\n<!--\\n                    <div class=\"d-flex align-items-center justify-content-between mt-1\">\\n                      <h5 class=\"font-weight-bold my-2 product-category\">fashion</h5>\\n                    </div>\\n                    <div class=\"d-flex align-items-center justify-content-between mt-1\">\\n                      <h5 class=\"font-weight-bold my-2 product-query\">men&#39;s henleys</h5>\\n                    </div>\\n                    <div class=\"d-flex align-items-center justify-content-between mt-1\">\\n                      <h5 class=\"font-weight-bold my-2 product-product_category\">Clothing, Shoes &amp; Jewelry › Men › Clothing › Active › Active Shirts &amp; Tees › Button-Down Shirts</h5>\\n                    </div>\\n-->\\n                  </div>\\n                </div>\\n            </ul>\\n          </div>\\n        </div>\\n        \\n        <div class=\"col-lg-12 mx-auto list-group-item\">\\n          <div class=\"col-lg-4\">\\n            <img src=\"https://m.media-amazon.com/images/I/51CeT4nI48L.jpg\" class=\"result-img\">\\n          </div>\\n          <div class=\"col-lg-8\">\\n            <ul class=\"list-group shadow\">\\n                <div class=\"media align-items-lg-center flex-column flex-lg-row p-3\">\\n                  <div class=\"media-body order-2 order-lg-1 searched-product\">\\n                    \\n                    <h4 class=\"mt-0 font-weight-bold mb-2 product-asin\"><a class=\"product-link\" href=\"/?session_id=ayfoedaown&amp;asin=B09KWX51GJ&amp;keywords=warm&amp;keywords=jacket&amp;keywords=coat&amp;keywords=women&amp;keywords=faux&amp;keywords=fur&amp;keywords=lined&amp;page=1&amp;options=%7B%7D\">B09KWX51GJ</a></h5>\\n                    <h4 class=\"mt-0 font-weight-bold mb-2 product-title\">Monbix 3 Piece Queen Bed Set All Season Luxury Breathable Microfiber Bedding Collection Cozy Comforter Set Soft Washable Foil Marble Pattern Grey with Shams</h5>\\n                    <div class=\"d-flex align-items-center justify-content-between mt-1\">\\n                      <h5 class=\"font-weight-bold my-2 product-price\">$49.99</h6>\\n                    </div>\\n<!--\\n                    <div class=\"d-flex align-items-center justify-content-between mt-1\">\\n                      <h5 class=\"font-weight-bold my-2 product-category\">garden</h5>\\n                    </div>\\n                    <div class=\"d-flex align-items-center justify-content-between mt-1\">\\n                      <h5 class=\"font-weight-bold my-2 product-query\">beds</h5>\\n                    </div>\\n                    <div class=\"d-flex align-items-center justify-content-between mt-1\">\\n                      <h5 class=\"font-weight-bold my-2 product-product_category\">Home &amp; Kitchen › Bedding › Comforters &amp; Sets › Comforter Sets</h5>\\n                    </div>\\n-->\\n                  </div>\\n                </div>\\n            </ul>\\n          </div>\\n        </div>\\n        \\n      </div>\\n    </div>\\n  </body>\\n</html>'"
      ]
     },
     "execution_count": 10,
     "metadata": {},
     "output_type": "execute_result"
    }
   ],
   "source": [
    "env.browser.page_source"
   ]
  },
  {
   "cell_type": "code",
   "execution_count": 11,
   "id": "5ca58673-9173-4333-861b-e5a3d4e2ecad",
   "metadata": {},
   "outputs": [
    {
     "data": {
      "text/plain": [
       "{'has_search_bar': False,\n",
       " 'clickables': ['back to search',\n",
       "  'next >',\n",
       "  'b09kp78g37',\n",
       "  'b07zxbgdxf',\n",
       "  'b09c8ynwwb',\n",
       "  'b0957xw92m',\n",
       "  'b09msz4vs8',\n",
       "  'b07dkgjr74',\n",
       "  'b000j3hzxs',\n",
       "  'b01n9i1e62',\n",
       "  'b09s3bn15c',\n",
       "  'b09kwx51gj']}"
      ]
     },
     "execution_count": 11,
     "metadata": {},
     "output_type": "execute_result"
    }
   ],
   "source": [
    "env.get_available_actions()"
   ]
  },
  {
   "cell_type": "code",
   "execution_count": 12,
   "id": "03dad083-ca16-443a-a44d-bc4caeb8e086",
   "metadata": {},
   "outputs": [],
   "source": [
    "state, reward, done, info = env.step(\"click[b09kp78g37]\")"
   ]
  },
  {
   "cell_type": "code",
   "execution_count": 13,
   "id": "e25b49eb-18aa-4b45-8360-79d561688527",
   "metadata": {},
   "outputs": [],
   "source": [
    "image = env.get_image()"
   ]
  },
  {
   "cell_type": "code",
   "execution_count": 14,
   "id": "3193bbca-01d0-42ad-b550-920d3f5e0224",
   "metadata": {},
   "outputs": [
    {
     "data": {
      "text/plain": [
       "torch.Size([512])"
      ]
     },
     "execution_count": 14,
     "metadata": {},
     "output_type": "execute_result"
    }
   ],
   "source": [
    "image.shape"
   ]
  },
  {
   "cell_type": "code",
   "execution_count": 15,
   "id": "cdc9990a-ca72-408e-96b5-ffb93e89fec4",
   "metadata": {},
   "outputs": [
    {
     "data": {
      "text/plain": [
       "'<!DOCTYPE html>\\n<html>\\n  <head>\\n    <link rel=\"stylesheet\" href=\"/static/style.css\">\\n    <link rel=\"stylesheet\" href=\"https://maxcdn.bootstrapcdn.com/bootstrap/3.4.1/css/bootstrap.min.css\">\\n    <link rel=\"stylesheet\" href=\"https://cdnjs.cloudflare.com/ajax/libs/font-awesome/4.0.3/css/font-awesome.css\\t\">\\n    <script src=\"https://ajax.googleapis.com/ajax/libs/jquery/3.5.1/jquery.min.js\"></script>\\n    <script src=\"https://stackpath.bootstrapcdn.com/bootstrap/4.3.1/js/bootstrap.bundle.min.js\"></script>\\n    <link rel=\"icon\" href=\"data:,\">\\n  </head>\\n  <body>\\n    <div class=\"container py-5\">\\n      <div class=\"row top-buffer\">\\n        <div class=\"col-sm-6\">\\n          <div id=\"instruction-text\" class=\"text-center\">\\n            <h4>Instruction:<br>Find me slim fit, machine wash women&#39;s jumpsuits, rompers &amp; overalls with short sleeve, high waist, polyester spandex for daily wear with color: green stripe, and size: large, and price lower than 50.00 dollars</h4>\\n          </div>\\n        </div>\\n      </div>\\n      <div class=\"row top-buffer\">\\n        <form method=\"post\" action=\"/?session_id=ayfoedaown\">\\n          <button type=\"submit\" class=\"btn btn-success\">Back to Search</button>\\n        </form>\\n      </div>\\n      <div class=\"row top-buffer\">\\n        <form method=\"post\" action=\"/?session_id=ayfoedaown&amp;keywords=warm&amp;keywords=jacket&amp;keywords=coat&amp;keywords=women&amp;keywords=faux&amp;keywords=fur&amp;keywords=lined&amp;page=1\">\\n          <button type=\"submit\" class=\"btn btn-primary\">&lt; Prev</button>\\n        </form>\\n      </div>\\n      <div class=\"row top-buffer\">\\n        <div class=\"col-md-4 mb-4 mb-md-0\">\\n          <div class=\"row top-buffer\">\\n            <img id=\"product-image\" src=\"https://m.media-amazon.com/images/I/31Nkx3FT1hL.jpg\" class=\"item-page-img\">\\n          </div>\\n          \\n            <div class=\"row top-buffer\">\\n              <h4>color</h4>\\n              <div class=\"radio-toolbar\">\\n                \\n                  \\n                  \\n                  \\n                  <input type=\"radio\" id=\"radio_color0\" name=\"color\" value=\"black\" data-url=\"/?session_id=ayfoedaown&amp;asin=B09KP78G37&amp;keywords=warm&amp;keywords=jacket&amp;keywords=coat&amp;keywords=women&amp;keywords=faux&amp;keywords=fur&amp;keywords=lined&amp;page=1&amp;options=%7B&#39;color&#39;:+&#39;black&#39;%7D\">\\n                  <label for=\"radio_color0\">black</label>\\n                \\n                  \\n                  \\n                  \\n                  <input type=\"radio\" id=\"radio_color1\" name=\"color\" value=\"navy\" data-url=\"/?session_id=ayfoedaown&amp;asin=B09KP78G37&amp;keywords=warm&amp;keywords=jacket&amp;keywords=coat&amp;keywords=women&amp;keywords=faux&amp;keywords=fur&amp;keywords=lined&amp;page=1&amp;options=%7B&#39;color&#39;:+&#39;navy&#39;%7D\">\\n                  <label for=\"radio_color1\">navy</label>\\n                \\n                  \\n                  \\n                  \\n                  <input type=\"radio\" id=\"radio_color2\" name=\"color\" value=\"red\" data-url=\"/?session_id=ayfoedaown&amp;asin=B09KP78G37&amp;keywords=warm&amp;keywords=jacket&amp;keywords=coat&amp;keywords=women&amp;keywords=faux&amp;keywords=fur&amp;keywords=lined&amp;page=1&amp;options=%7B&#39;color&#39;:+&#39;red&#39;%7D\">\\n                  <label for=\"radio_color2\">red</label>\\n                \\n                  \\n                  \\n                  \\n                  <input type=\"radio\" id=\"radio_color3\" name=\"color\" value=\"yellow\" data-url=\"/?session_id=ayfoedaown&amp;asin=B09KP78G37&amp;keywords=warm&amp;keywords=jacket&amp;keywords=coat&amp;keywords=women&amp;keywords=faux&amp;keywords=fur&amp;keywords=lined&amp;page=1&amp;options=%7B&#39;color&#39;:+&#39;yellow&#39;%7D\">\\n                  <label for=\"radio_color3\">yellow</label>\\n                \\n              </div>\\n            </div>\\n          \\n            <div class=\"row top-buffer\">\\n              <h4>size</h4>\\n              <div class=\"radio-toolbar\">\\n                \\n                  \\n                  \\n                  \\n                  <input type=\"radio\" id=\"radio_size0\" name=\"size\" value=\"small\" data-url=\"/?session_id=ayfoedaown&amp;asin=B09KP78G37&amp;keywords=warm&amp;keywords=jacket&amp;keywords=coat&amp;keywords=women&amp;keywords=faux&amp;keywords=fur&amp;keywords=lined&amp;page=1&amp;options=%7B&#39;size&#39;:+&#39;small&#39;%7D\">\\n                  <label for=\"radio_size0\">small</label>\\n                \\n                  \\n                  \\n                  \\n                  <input type=\"radio\" id=\"radio_size1\" name=\"size\" value=\"medium\" data-url=\"/?session_id=ayfoedaown&amp;asin=B09KP78G37&amp;keywords=warm&amp;keywords=jacket&amp;keywords=coat&amp;keywords=women&amp;keywords=faux&amp;keywords=fur&amp;keywords=lined&amp;page=1&amp;options=%7B&#39;size&#39;:+&#39;medium&#39;%7D\">\\n                  <label for=\"radio_size1\">medium</label>\\n                \\n                  \\n                  \\n                  \\n                  <input type=\"radio\" id=\"radio_size2\" name=\"size\" value=\"large\" data-url=\"/?session_id=ayfoedaown&amp;asin=B09KP78G37&amp;keywords=warm&amp;keywords=jacket&amp;keywords=coat&amp;keywords=women&amp;keywords=faux&amp;keywords=fur&amp;keywords=lined&amp;page=1&amp;options=%7B&#39;size&#39;:+&#39;large&#39;%7D\">\\n                  <label for=\"radio_size2\">large</label>\\n                \\n                  \\n                  \\n                  \\n                  <input type=\"radio\" id=\"radio_size3\" name=\"size\" value=\"x-large\" data-url=\"/?session_id=ayfoedaown&amp;asin=B09KP78G37&amp;keywords=warm&amp;keywords=jacket&amp;keywords=coat&amp;keywords=women&amp;keywords=faux&amp;keywords=fur&amp;keywords=lined&amp;page=1&amp;options=%7B&#39;size&#39;:+&#39;x-large&#39;%7D\">\\n                  <label for=\"radio_size3\">x-large</label>\\n                \\n                  \\n                  \\n                  \\n                  <input type=\"radio\" id=\"radio_size4\" name=\"size\" value=\"xx-large\" data-url=\"/?session_id=ayfoedaown&amp;asin=B09KP78G37&amp;keywords=warm&amp;keywords=jacket&amp;keywords=coat&amp;keywords=women&amp;keywords=faux&amp;keywords=fur&amp;keywords=lined&amp;page=1&amp;options=%7B&#39;size&#39;:+&#39;xx-large&#39;%7D\">\\n                  <label for=\"radio_size4\">xx-large</label>\\n                \\n                  \\n                  \\n                  \\n                  <input type=\"radio\" id=\"radio_size5\" name=\"size\" value=\"3x-large\" data-url=\"/?session_id=ayfoedaown&amp;asin=B09KP78G37&amp;keywords=warm&amp;keywords=jacket&amp;keywords=coat&amp;keywords=women&amp;keywords=faux&amp;keywords=fur&amp;keywords=lined&amp;page=1&amp;options=%7B&#39;size&#39;:+&#39;3x-large&#39;%7D\">\\n                  <label for=\"radio_size5\">3x-large</label>\\n                \\n              </div>\\n            </div>\\n          \\n        </div>\\n        <div class=\"col-md-6\">\\n          <h2>Women Faux Fur Lined Jacket Coat Winter Warm Thick Fleece Outwear Trench Zipper Plus Size Long Sleeve Plush Overcoat</h2>\\n          <h4>Price: $47.41 to $59.07</h4>\\n          <h4>Rating: N.A.</h4>\\n          <div class=\"row top-buffer\">\\n            <div class=\"col-sm-3\" name=\"description\">\\n              <form method=\"post\" action=\"/?session_id=ayfoedaown&amp;asin=B09KP78G37&amp;keywords=warm&amp;keywords=jacket&amp;keywords=coat&amp;keywords=women&amp;keywords=faux&amp;keywords=fur&amp;keywords=lined&amp;page=1&amp;sub_page=Description&amp;options=%7B%7D\">\\n                <button class=\"btn btn-primary\" type=\"submit\">Description</button>\\n              </form>\\n            </div>\\n            <div class=\"col-sm-3\" name=\"bulletpoints\">\\n              <form method=\"post\" action=\"/?session_id=ayfoedaown&amp;asin=B09KP78G37&amp;keywords=warm&amp;keywords=jacket&amp;keywords=coat&amp;keywords=women&amp;keywords=faux&amp;keywords=fur&amp;keywords=lined&amp;page=1&amp;sub_page=Features&amp;options=%7B%7D\">\\n                <button class=\"btn btn-primary\" type=\"submit\">Features</button>\\n              </form>\\n            </div>\\n            <div class=\"col-sm-3\" name=\"reviews\">\\n              <form method=\"post\" action=\"/?session_id=ayfoedaown&amp;asin=B09KP78G37&amp;keywords=warm&amp;keywords=jacket&amp;keywords=coat&amp;keywords=women&amp;keywords=faux&amp;keywords=fur&amp;keywords=lined&amp;page=1&amp;sub_page=Reviews&amp;options=%7B%7D\">\\n                <button class=\"btn btn-primary\" type=\"submit\">Reviews</button>\\n              </form>\\n            </div>\\n            \\n          </div>\\n        </div>\\n        <div class=\"col-sm-2\">\\n          <div class=\"row top-buffer\">\\n            <form method=\"post\" action=\"/?session_id=ayfoedaown&amp;asin=B09KP78G37&amp;options=%7B%7D\">\\n              <button type=\"submit\" class=\"btn btn-lg purchase\">Buy Now</button>\\n            </form>\\n          </div>\\n        </div>\\n      </div>\\n    </div>\\n  </body>\\n  <script>\\n    $(document).ready(function() {\\n      $(\\'input:radio\\').each(function() {\\n        //console.log($(this).val());\\n        let options = JSON.parse(`{}`);\\n        let optionValues = $.map(options, function(value, key) { return value });\\n        //console.log(optionValues);\\n        if (optionValues.includes($(this).val())) {\\n          $(this).prop(\\'checked\\', true);\\n\\n          let option_to_image = JSON.parse(`{\"3x-large\": null, \"black\": \"https://m.media-amazon.com/images/I/31BHewPdAsL.jpg\", \"large\": null, \"medium\": null, \"navy\": \"https://m.media-amazon.com/images/I/31Nkx3FT1hL.jpg\", \"red\": \"https://m.media-amazon.com/images/I/41lKZsdVfIL.jpg\", \"small\": null, \"x-large\": null, \"xx-large\": null, \"yellow\": \"https://m.media-amazon.com/images/I/410oZOPWpML.jpg\"}`);\\n//          console.log($(this).val());\\n//          console.log(options);\\n//          console.log(option_to_image);\\n          let image_url = option_to_image[$(this).val()];\\n\\n          //console.log(image_url);\\n          if (image_url) {\\n            $(\"#product-image\").attr(\"src\", image_url);\\n          }\\n        }\\n        \\n        // reload with updated options\\n        this.addEventListener(\"click\", function() {\\n          window.location.href = this.dataset.url;\\n        });\\n\\n      });\\n    });\\n  </script>\\n</html>'"
      ]
     },
     "execution_count": 15,
     "metadata": {},
     "output_type": "execute_result"
    }
   ],
   "source": [
    "env.browser.page_source"
   ]
  },
  {
   "cell_type": "code",
   "execution_count": 16,
   "id": "073878f9-d892-401d-bcea-53692f2468ac",
   "metadata": {},
   "outputs": [
    {
     "data": {
      "text/plain": [
       "str"
      ]
     },
     "execution_count": 16,
     "metadata": {},
     "output_type": "execute_result"
    }
   ],
   "source": [
    "type(env.browser.page_source)"
   ]
  },
  {
   "cell_type": "code",
   "execution_count": 17,
   "id": "0ee091c6-a1ed-415d-b7bb-181e9710c8f0",
   "metadata": {},
   "outputs": [
    {
     "name": "stdout",
     "output_type": "stream",
     "text": [
      "https://m.media-amazon.com/images/I/31Nkx3FT1hL.jpg\n"
     ]
    }
   ],
   "source": [
    "html_obj = env.parse_html(html=env.browser.page_source)\n",
    "image_url = html_obj.find(id='product-image')\n",
    "image_url = image_url['src']\n",
    "print(image_url)"
   ]
  },
  {
   "cell_type": "code",
   "execution_count": 18,
   "id": "ed2e50d6-37ce-424b-84e5-92ed7d46b8b3",
   "metadata": {},
   "outputs": [],
   "source": [
    "import requests\n",
    "from PIL import Image\n",
    "from io import BytesIO"
   ]
  },
  {
   "cell_type": "code",
   "execution_count": 19,
   "id": "1cf4069c-3e31-4df7-b8ff-932735c28ff0",
   "metadata": {},
   "outputs": [],
   "source": [
    "# Send HTTP request to the URL\n",
    "response = requests.get(image_url)\n",
    "# Check if the request was successful (HTTP Status Code 200)\n",
    "if response.status_code == 200:\n",
    "    # Open the image using Pillow\n",
    "    image = Image.open(BytesIO(response.content))\n",
    "    # Save the image\n",
    "    image.save(\"downloaded_image.jpg\")\n",
    "else:\n",
    "    print(\"Failed to retrieve the image. Status code:\", response.status_code)"
   ]
  },
  {
   "cell_type": "code",
   "execution_count": 20,
   "id": "5375f467-98a0-4f10-9ce7-340697fc2928",
   "metadata": {},
   "outputs": [
    {
     "name": "stdout",
     "output_type": "stream",
     "text": [
      "1000\n"
     ]
    }
   ],
   "source": [
    "import json\n",
    "data = []\n",
    "with open(\"search_engine/resources_100k/documents.jsonl\", \"r\") as f:\n",
    "    for line in f:\n",
    "        json_obj = json.loads(line.strip())\n",
    "        data.append(json_obj)\n",
    "    \n",
    "print(len(data))"
   ]
  },
  {
   "cell_type": "code",
   "execution_count": 21,
   "id": "9d8f4c92-ac82-4db9-8bb8-01faa4299262",
   "metadata": {},
   "outputs": [
    {
     "data": {
      "text/plain": [
       "dict_keys(['id', 'contents', 'product'])"
      ]
     },
     "execution_count": 21,
     "metadata": {},
     "output_type": "execute_result"
    }
   ],
   "source": [
    "data[0].keys()"
   ]
  },
  {
   "cell_type": "code",
   "execution_count": 22,
   "id": "da67e867-2bc7-46ac-b9ed-fcc4660c0bac",
   "metadata": {},
   "outputs": [
    {
     "data": {
      "text/plain": [
       "'B06Y3VLDFB'"
      ]
     },
     "execution_count": 22,
     "metadata": {},
     "output_type": "execute_result"
    }
   ],
   "source": [
    "data[0]['id']"
   ]
  },
  {
   "cell_type": "code",
   "execution_count": 23,
   "id": "f95be215-b4a9-4757-8f63-b21f646ae191",
   "metadata": {},
   "outputs": [
    {
     "data": {
      "text/plain": [
       "'vhomes lights reclaimed wood console table the genessis collection sofa-tables solid, reclaimed fir wood in natural, sun bleached finish with light antiquing glaze. finish/frame description:solid, reclaimed fir wood in natural, sun bleached finish with light antiquing glaze.  '"
      ]
     },
     "execution_count": 23,
     "metadata": {},
     "output_type": "execute_result"
    }
   ],
   "source": [
    "data[0]['contents']"
   ]
  },
  {
   "cell_type": "code",
   "execution_count": 24,
   "id": "a4e4102c-feea-41ff-87dc-aaba189ee27a",
   "metadata": {},
   "outputs": [
    {
     "data": {
      "text/plain": [
       "{'name': 'Vhomes Lights Reclaimed Wood Console Table The Genessis Collection Sofa-Tables',\n",
       " 'full_description': 'Solid, Reclaimed Fir Wood In Natural, Sun Bleached Finish With Light Antiquing Glaze.',\n",
       " 'pricing': [877.8],\n",
       " 'images': ['https://m.media-amazon.com/images/I/51Y1zY1ZdZL.jpg',\n",
       "  'https://m.media-amazon.com/images/I/41fbRZ6LKlL.jpg',\n",
       "  'https://images-na.ssl-images-amazon.com/images/G/01/x-locale/common/transparent-pixel.gif'],\n",
       " 'product_category': 'Home & Kitchen › Furniture › Living Room Furniture › Tables › Sofa & Console Tables',\n",
       " 'average_rating': '',\n",
       " 'small_description': ['Finish/Frame Description:Solid, Reclaimed Fir Wood In Natural, Sun Bleached Finish With Light Antiquing Glaze. ',\n",
       "  'Material:SOLID WOOD ',\n",
       "  'Dimensions (Inches): 14.125 Depth 54 Width 33 Height ',\n",
       "  'Weight:41 '],\n",
       " 'customization_options': '',\n",
       " 'asin': 'B06Y3VLDFB',\n",
       " 'category': 'garden',\n",
       " 'query': 'console tables',\n",
       " 'page': 378,\n",
       " 'Title': 'Vhomes Lights Reclaimed Wood Console Table The Genessis Collection Sofa-Tables',\n",
       " 'Description': 'Solid, Reclaimed Fir Wood In Natural, Sun Bleached Finish With Light Antiquing Glaze.',\n",
       " 'Reviews': [],\n",
       " 'Rating': 'N.A.',\n",
       " 'BulletPoints': ['Finish/Frame Description:Solid, Reclaimed Fir Wood In Natural, Sun Bleached Finish With Light Antiquing Glaze. ',\n",
       "  'Material:SOLID WOOD ',\n",
       "  'Dimensions (Inches): 14.125 Depth 54 Width 33 Height ',\n",
       "  'Weight:41 '],\n",
       " 'Price': '$877.8',\n",
       " 'options': {},\n",
       " 'option_to_image': {},\n",
       " 'Attributes': ['console table', 'solid wood'],\n",
       " 'MainImage': 'https://m.media-amazon.com/images/I/51Y1zY1ZdZL.jpg'}"
      ]
     },
     "execution_count": 24,
     "metadata": {},
     "output_type": "execute_result"
    }
   ],
   "source": [
    "data[0]['product']"
   ]
  },
  {
   "cell_type": "code",
   "execution_count": 25,
   "id": "b19da863-6184-4255-ad8f-d6133317e1ec",
   "metadata": {},
   "outputs": [],
   "source": [
    "import transformers"
   ]
  },
  {
   "cell_type": "code",
   "execution_count": 26,
   "id": "e9fcd5c2-e58d-425c-8c80-23c508921c72",
   "metadata": {},
   "outputs": [
    {
     "name": "stderr",
     "output_type": "stream",
     "text": [
      "Some weights of the model checkpoint at bert-base-uncased were not used when initializing BertModel: ['cls.predictions.transform.dense.bias', 'cls.predictions.transform.LayerNorm.weight', 'cls.predictions.transform.dense.weight', 'cls.seq_relationship.weight', 'cls.predictions.decoder.weight', 'cls.seq_relationship.bias', 'cls.predictions.bias', 'cls.predictions.transform.LayerNorm.bias']\n",
      "- This IS expected if you are initializing BertModel from the checkpoint of a model trained on another task or with another architecture (e.g. initializing a BertForSequenceClassification model from a BertForPreTraining model).\n",
      "- This IS NOT expected if you are initializing BertModel from the checkpoint of a model that you expect to be exactly identical (initializing a BertForSequenceClassification model from a BertForSequenceClassification model).\n"
     ]
    }
   ],
   "source": [
    "from transformers import BertTokenizer, BertModel\n",
    "import torch\n",
    "\n",
    "model_name = \"bert-base-uncased\"\n",
    "tokenizer = BertTokenizer.from_pretrained(model_name)\n",
    "model = BertModel.from_pretrained(model_name).cuda()"
   ]
  },
  {
   "cell_type": "code",
   "execution_count": 27,
   "id": "67faf859-3a9e-44fe-9974-478dbce26050",
   "metadata": {},
   "outputs": [
    {
     "name": "stdout",
     "output_type": "stream",
     "text": [
      "torch.Size([1000, 768])\n"
     ]
    }
   ],
   "source": [
    "all_embeddings = []\n",
    "for d in data:\n",
    "    product = d['product']\n",
    "    description = product['name'] + product['full_description']\n",
    "    input_ids = tokenizer.encode(description, add_special_tokens=True, max_length=512, truncation=True)\n",
    "    input_tensor = torch.tensor([input_ids]).cuda()  # Convert to PyTorch tensor\n",
    "    with torch.no_grad():  # Inference only\n",
    "        outputs = model(input_tensor)\n",
    "    cls_embedding = outputs.last_hidden_state[0, 0, :]\n",
    "    all_embeddings.append(cls_embedding)\n",
    "all_embeddings = torch.stack(all_embeddings, dim=0)\n",
    "print(all_embeddings.shape)"
   ]
  },
  {
   "cell_type": "code",
   "execution_count": 28,
   "id": "c186be28-5cf0-47bc-840e-e746dc40880e",
   "metadata": {},
   "outputs": [],
   "source": [
    "import torch\n",
    "import numpy as np\n",
    "import matplotlib.pyplot as plt\n",
    "from sklearn.manifold import TSNE"
   ]
  },
  {
   "cell_type": "code",
   "execution_count": 29,
   "id": "c82725ef-1525-495f-9429-adf6a1bb7523",
   "metadata": {},
   "outputs": [
    {
     "name": "stderr",
     "output_type": "stream",
     "text": [
      "/home/haoyang/anaconda3/envs/webshop/lib/python3.8/site-packages/ipykernel/ipkernel.py:283: DeprecationWarning: `should_run_async` will not call `transform_cell` automatically in the future. Please pass the result to `transformed_cell` argument and any exception that happen during thetransform in `preprocessing_exc_tuple` in IPython 7.17 and above.\n",
      "  and should_run_async(code)\n"
     ]
    },
    {
     "data": {
      "image/png": "[encoded data removed]",
      "text/plain": [
       "<Figure size 432x288 with 1 Axes>"
      ]
     },
     "metadata": {
      "needs_background": "light"
     },
     "output_type": "display_data"
    }
   ],
   "source": [
    "embeddings = all_embeddings.cpu()\n",
    "# Convert torch tensor to numpy array\n",
    "embeddings_np = embeddings.numpy()\n",
    "\n",
    "# Initialize t-SNE\n",
    "tsne = TSNE(n_components=2, random_state=0)\n",
    "\n",
    "# Perform t-SNE fitting\n",
    "reduced_data = tsne.fit_transform(embeddings_np)\n",
    "\n",
    "# Plot the reduced data\n",
    "plt.scatter(reduced_data[:, 0], reduced_data[:, 1])\n",
    "plt.xlabel('t-SNE feature 0')\n",
    "plt.ylabel('t-SNE feature 1')\n",
    "plt.title('2D t-SNE of 768D Embeddings')\n",
    "plt.show()"
   ]
  },
  {
   "cell_type": "code",
   "execution_count": null,
   "id": "6415ead4-d8bf-4dfc-acdb-90c4db8238ea",
   "metadata": {},
   "outputs": [
    {
     "name": "stderr",
     "output_type": "stream",
     "text": [
      "/home/haoyang/anaconda3/envs/webshop/lib/python3.8/site-packages/ipykernel/ipkernel.py:283: DeprecationWarning: `should_run_async` will not call `transform_cell` automatically in the future. Please pass the result to `transformed_cell` argument and any exception that happen during thetransform in `preprocessing_exc_tuple` in IPython 7.17 and above.\n",
      "  and should_run_async(code)\n"
     ]
    }
   ],
   "source": []
  },
  {
   "cell_type": "code",
   "execution_count": null,
   "id": "e9c01ca6-a356-4c34-9b26-e76fdb40e465",
   "metadata": {},
   "outputs": [],
   "source": []
  }
 ],
 "metadata": {
  "kernelspec": {
   "display_name": "Python 3",
   "language": "python",
   "name": "python3"
  },
  "language_info": {
   "codemirror_mode": {
    "name": "ipython",
    "version": 3
   },
   "file_extension": ".py",
   "mimetype": "text/x-python",
   "name": "python",
   "nbconvert_exporter": "python",
   "pygments_lexer": "ipython3",
   "version": "3.8.13"
  }
 },
 "nbformat": 4,
 "nbformat_minor": 5
}
